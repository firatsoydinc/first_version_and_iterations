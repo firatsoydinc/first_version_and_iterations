{
 "cells": [
  {
   "cell_type": "code",
   "execution_count": 1,
   "id": "31033371",
   "metadata": {},
   "outputs": [],
   "source": [
    "# To run all the csv files in one call\n",
    "import glob\n",
    "\n",
    "# Data Cleaninig and Manipulation\n",
    "import pandas as pd\n",
    "import numpy as np \n",
    "\n",
    "# To ignore warnings \n",
    "import warnings\n",
    "warnings.filterwarnings(\"ignore\", category=FutureWarning)"
   ]
  },
  {
   "cell_type": "code",
   "execution_count": 2,
   "id": "0e6c01d8",
   "metadata": {},
   "outputs": [],
   "source": [
    "# Import all book metadata\n",
    "path = r'./Books_csv' # use your path\n",
    "all_files = glob.glob(path + \"/*.csv\")\n",
    "\n",
    "li = []\n",
    "\n",
    "for filename in all_files:\n",
    "    df = pd.read_csv(filename, index_col=None, header=0)\n",
    "    li.append(df)\n",
    "\n",
    "df_book = pd.concat(li, axis=0, ignore_index=True)"
   ]
  },
  {
   "cell_type": "code",
   "execution_count": 3,
   "id": "3ddd32b3",
   "metadata": {},
   "outputs": [],
   "source": [
    "# Import all user ratign metadata\n",
    "\n",
    "path = r'./Rating_csv' # use your path\n",
    "all_files = glob.glob(path + \"/*.csv\")\n",
    "\n",
    "li = []\n",
    "\n",
    "for filename in all_files:\n",
    "    df = pd.read_csv(filename, index_col=None, header=0)\n",
    "    li.append(df)\n",
    "\n",
    "df_rating = pd.concat(li, axis=0, ignore_index=True)"
   ]
  },
  {
   "cell_type": "code",
   "execution_count": 4,
   "id": "5fc95ddb",
   "metadata": {},
   "outputs": [],
   "source": [
    "# Make our dataset smaller in memory Thanks to : https://www.kaggle.com/aantonova/some-new-risk-and-clusters-feature\n",
    "def reduce_mem_usage(df, verbose=True):\n",
    "    numerics = ['int16', 'int32', 'int64', 'float16', 'float32', 'float64']\n",
    "    start_mem = df.memory_usage().sum() / 1024**2\n",
    "    for col in df.columns:\n",
    "        col_type = df[col].dtypes\n",
    "        if col_type in numerics:\n",
    "            c_min = df[col].min()\n",
    "            c_max = df[col].max()\n",
    "            if str(col_type)[:3] == 'int':\n",
    "                if c_min > np.iinfo(np.int8).min and c_max < np.iinfo(np.int8).max:\n",
    "                    df[col] = df[col].astype(np.int8)\n",
    "                elif c_min > np.iinfo(np.int16).min and c_max < np.iinfo(np.int16).max:\n",
    "                    df[col] = df[col].astype(np.int16)\n",
    "                elif c_min > np.iinfo(np.int32).min and c_max < np.iinfo(np.int32).max:\n",
    "                    df[col] = df[col].astype(np.int32)\n",
    "                elif c_min > np.iinfo(np.int64).min and c_max < np.iinfo(np.int64).max:\n",
    "                    df[col] = df[col].astype(np.int64)\n",
    "            else:\n",
    "                if c_min > np.finfo(np.float16).min and c_max < np.finfo(np.float16).max:\n",
    "                    df[col] = df[col].astype(np.float16)\n",
    "                elif c_min > np.finfo(np.float32).min and c_max < np.finfo(np.float32).max:\n",
    "                    df[col] = df[col].astype(np.float32)\n",
    "                else:\n",
    "                    df[col] = df[col].astype(np.float64)\n",
    "    end_mem = df.memory_usage().sum() / 1024**2\n",
    "    if verbose: print('Mem. usage decreased to {:5.2f} Mb ({:.1f}% reduction)'.format(end_mem, 100 * (start_mem - end_mem) / start_mem))\n",
    "    return df\n",
    "\n"
   ]
  },
  {
   "cell_type": "markdown",
   "id": "6d443506",
   "metadata": {},
   "source": [
    "### Cleaning book dataframe"
   ]
  },
  {
   "cell_type": "code",
   "execution_count": 5,
   "id": "cb846876",
   "metadata": {},
   "outputs": [],
   "source": [
    "# To Take quick overview of the dataframe\n",
    "\n",
    "def overview_df(dataframe):\n",
    "    cat_cols = [col for col in dataframe.columns if dataframe[col].dtypes == \"O\"]\n",
    "\n",
    "    num_cols = [col for col in dataframe.columns if dataframe[col].dtypes != \"O\"]\n",
    "    \n",
    "    print('##################### Number of Observations #####################')\n",
    "    print(dataframe.shape[0])\n",
    "    print('##################### Number of Variables #####################')\n",
    "    print(dataframe.shape[1])\n",
    "    print(\"##################### Number of Categoric Variables#####################\")\n",
    "    print(len(cat_cols))\n",
    "    print(\"##################### Number of Numeric Variables#####################\")\n",
    "    print(len(num_cols))\n",
    "    print(\"##################### Types of Variables#####################\")\n",
    "    print(dataframe.dtypes)\n",
    "    print(\"##################### NA #####################\")\n",
    "    print(dataframe.isnull().sum())"
   ]
  },
  {
   "cell_type": "code",
   "execution_count": 6,
   "id": "936ebe4f",
   "metadata": {
    "scrolled": true
   },
   "outputs": [
    {
     "name": "stdout",
     "output_type": "stream",
     "text": [
      "Mem. usage decreased to 215.28 Mb (27.4% reduction)\n"
     ]
    },
    {
     "data": {
      "text/html": [
       "<div>\n",
       "<style scoped>\n",
       "    .dataframe tbody tr th:only-of-type {\n",
       "        vertical-align: middle;\n",
       "    }\n",
       "\n",
       "    .dataframe tbody tr th {\n",
       "        vertical-align: top;\n",
       "    }\n",
       "\n",
       "    .dataframe thead th {\n",
       "        text-align: right;\n",
       "    }\n",
       "</style>\n",
       "<table border=\"1\" class=\"dataframe\">\n",
       "  <thead>\n",
       "    <tr style=\"text-align: right;\">\n",
       "      <th></th>\n",
       "      <th>Id</th>\n",
       "      <th>Name</th>\n",
       "      <th>Authors</th>\n",
       "      <th>ISBN</th>\n",
       "      <th>Rating</th>\n",
       "      <th>PublishYear</th>\n",
       "      <th>PublishMonth</th>\n",
       "      <th>PublishDay</th>\n",
       "      <th>Publisher</th>\n",
       "      <th>RatingDist5</th>\n",
       "      <th>...</th>\n",
       "      <th>RatingDist3</th>\n",
       "      <th>RatingDist2</th>\n",
       "      <th>RatingDist1</th>\n",
       "      <th>RatingDistTotal</th>\n",
       "      <th>CountsOfReview</th>\n",
       "      <th>Language</th>\n",
       "      <th>pagesNumber</th>\n",
       "      <th>Description</th>\n",
       "      <th>Count of text reviews</th>\n",
       "      <th>PagesNumber</th>\n",
       "    </tr>\n",
       "  </thead>\n",
       "  <tbody>\n",
       "    <tr>\n",
       "      <th>0</th>\n",
       "      <td>700000</td>\n",
       "      <td>A Passion to Preserve: Gay Men as Keepers of C...</td>\n",
       "      <td>Will Fellows</td>\n",
       "      <td>0299196844</td>\n",
       "      <td>3.750000</td>\n",
       "      <td>2005</td>\n",
       "      <td>1</td>\n",
       "      <td>9</td>\n",
       "      <td>University of Wisconsin Press</td>\n",
       "      <td>5:5</td>\n",
       "      <td>...</td>\n",
       "      <td>3:8</td>\n",
       "      <td>2:3</td>\n",
       "      <td>1:0</td>\n",
       "      <td>total:36</td>\n",
       "      <td>6</td>\n",
       "      <td>NaN</td>\n",
       "      <td>298.0</td>\n",
       "      <td>From large cities to rural communities, gay me...</td>\n",
       "      <td>6.0</td>\n",
       "      <td>NaN</td>\n",
       "    </tr>\n",
       "    <tr>\n",
       "      <th>1</th>\n",
       "      <td>700002</td>\n",
       "      <td>Culture Keepers-Florida: Oral History of the A...</td>\n",
       "      <td>Deborah Johnson-Simon</td>\n",
       "      <td>1425935168</td>\n",
       "      <td>0.000000</td>\n",
       "      <td>2006</td>\n",
       "      <td>18</td>\n",
       "      <td>7</td>\n",
       "      <td>Authorhouse</td>\n",
       "      <td>5:0</td>\n",
       "      <td>...</td>\n",
       "      <td>3:0</td>\n",
       "      <td>2:0</td>\n",
       "      <td>1:0</td>\n",
       "      <td>total:0</td>\n",
       "      <td>0</td>\n",
       "      <td>NaN</td>\n",
       "      <td>140.0</td>\n",
       "      <td>NaN</td>\n",
       "      <td>0.0</td>\n",
       "      <td>NaN</td>\n",
       "    </tr>\n",
       "    <tr>\n",
       "      <th>2</th>\n",
       "      <td>700003</td>\n",
       "      <td>Holiday Favorites: The Best of the Williams-So...</td>\n",
       "      <td>Allen Rosenberg</td>\n",
       "      <td>0848728009</td>\n",
       "      <td>4.550781</td>\n",
       "      <td>2004</td>\n",
       "      <td>1</td>\n",
       "      <td>4</td>\n",
       "      <td>Oxmoor House</td>\n",
       "      <td>5:7</td>\n",
       "      <td>...</td>\n",
       "      <td>3:1</td>\n",
       "      <td>2:0</td>\n",
       "      <td>1:0</td>\n",
       "      <td>total:11</td>\n",
       "      <td>2</td>\n",
       "      <td>NaN</td>\n",
       "      <td>336.0</td>\n",
       "      <td>This collector's edition features fabulous ful...</td>\n",
       "      <td>2.0</td>\n",
       "      <td>NaN</td>\n",
       "    </tr>\n",
       "    <tr>\n",
       "      <th>3</th>\n",
       "      <td>700004</td>\n",
       "      <td>Soups, Salads &amp; Starters: the Best of Williams...</td>\n",
       "      <td>Allan Rosenberg</td>\n",
       "      <td>0848728068</td>\n",
       "      <td>4.699219</td>\n",
       "      <td>2004</td>\n",
       "      <td>1</td>\n",
       "      <td>4</td>\n",
       "      <td>Oxmoor House</td>\n",
       "      <td>5:8</td>\n",
       "      <td>...</td>\n",
       "      <td>3:1</td>\n",
       "      <td>2:0</td>\n",
       "      <td>1:0</td>\n",
       "      <td>total:10</td>\n",
       "      <td>2</td>\n",
       "      <td>NaN</td>\n",
       "      <td>336.0</td>\n",
       "      <td>NaN</td>\n",
       "      <td>2.0</td>\n",
       "      <td>NaN</td>\n",
       "    </tr>\n",
       "    <tr>\n",
       "      <th>4</th>\n",
       "      <td>700005</td>\n",
       "      <td>Breakfasts &amp; Brunches</td>\n",
       "      <td>Time-Life Books</td>\n",
       "      <td>0783503210</td>\n",
       "      <td>3.880859</td>\n",
       "      <td>1997</td>\n",
       "      <td>1</td>\n",
       "      <td>4</td>\n",
       "      <td>Time Life Medical</td>\n",
       "      <td>5:6</td>\n",
       "      <td>...</td>\n",
       "      <td>3:4</td>\n",
       "      <td>2:2</td>\n",
       "      <td>1:0</td>\n",
       "      <td>total:17</td>\n",
       "      <td>0</td>\n",
       "      <td>eng</td>\n",
       "      <td>108.0</td>\n",
       "      <td>America's most respected cookware retailer, th...</td>\n",
       "      <td>0.0</td>\n",
       "      <td>NaN</td>\n",
       "    </tr>\n",
       "    <tr>\n",
       "      <th>...</th>\n",
       "      <td>...</td>\n",
       "      <td>...</td>\n",
       "      <td>...</td>\n",
       "      <td>...</td>\n",
       "      <td>...</td>\n",
       "      <td>...</td>\n",
       "      <td>...</td>\n",
       "      <td>...</td>\n",
       "      <td>...</td>\n",
       "      <td>...</td>\n",
       "      <td>...</td>\n",
       "      <td>...</td>\n",
       "      <td>...</td>\n",
       "      <td>...</td>\n",
       "      <td>...</td>\n",
       "      <td>...</td>\n",
       "      <td>...</td>\n",
       "      <td>...</td>\n",
       "      <td>...</td>\n",
       "      <td>...</td>\n",
       "      <td>...</td>\n",
       "    </tr>\n",
       "    <tr>\n",
       "      <th>1850305</th>\n",
       "      <td>499992</td>\n",
       "      <td>The Frugal Gourmet Cooks Three Ancient Cuisine...</td>\n",
       "      <td>Jeff  Smith</td>\n",
       "      <td>0688075894</td>\n",
       "      <td>3.810547</td>\n",
       "      <td>1989</td>\n",
       "      <td>1</td>\n",
       "      <td>1</td>\n",
       "      <td>William Morrow &amp; Company</td>\n",
       "      <td>5:347</td>\n",
       "      <td>...</td>\n",
       "      <td>3:278</td>\n",
       "      <td>2:82</td>\n",
       "      <td>1:36</td>\n",
       "      <td>total:1095</td>\n",
       "      <td>18</td>\n",
       "      <td>NaN</td>\n",
       "      <td>525.0</td>\n",
       "      <td>NaN</td>\n",
       "      <td>NaN</td>\n",
       "      <td>NaN</td>\n",
       "    </tr>\n",
       "    <tr>\n",
       "      <th>1850306</th>\n",
       "      <td>499994</td>\n",
       "      <td>Meditation and Its Practice</td>\n",
       "      <td>Swami Rama</td>\n",
       "      <td>0893891533</td>\n",
       "      <td>4.218750</td>\n",
       "      <td>2007</td>\n",
       "      <td>12</td>\n",
       "      <td>2</td>\n",
       "      <td>Himalayan Institute Press</td>\n",
       "      <td>5:127</td>\n",
       "      <td>...</td>\n",
       "      <td>3:35</td>\n",
       "      <td>2:11</td>\n",
       "      <td>1:5</td>\n",
       "      <td>total:245</td>\n",
       "      <td>18</td>\n",
       "      <td>NaN</td>\n",
       "      <td>110.0</td>\n",
       "      <td>NaN</td>\n",
       "      <td>NaN</td>\n",
       "      <td>NaN</td>\n",
       "    </tr>\n",
       "    <tr>\n",
       "      <th>1850307</th>\n",
       "      <td>499997</td>\n",
       "      <td>The New York Times Almanac 2006: The Almanac o...</td>\n",
       "      <td>John W. Wright</td>\n",
       "      <td>0143036521</td>\n",
       "      <td>4.000000</td>\n",
       "      <td>2005</td>\n",
       "      <td>17</td>\n",
       "      <td>10</td>\n",
       "      <td>Penguin Books</td>\n",
       "      <td>5:0</td>\n",
       "      <td>...</td>\n",
       "      <td>3:0</td>\n",
       "      <td>2:0</td>\n",
       "      <td>1:0</td>\n",
       "      <td>total:1</td>\n",
       "      <td>0</td>\n",
       "      <td>NaN</td>\n",
       "      <td>1008.0</td>\n",
       "      <td>NaN</td>\n",
       "      <td>NaN</td>\n",
       "      <td>NaN</td>\n",
       "    </tr>\n",
       "    <tr>\n",
       "      <th>1850308</th>\n",
       "      <td>499998</td>\n",
       "      <td>The Meditations of the Emperor Marcus Aurelius...</td>\n",
       "      <td>Marcus Aurelius</td>\n",
       "      <td>1406788406</td>\n",
       "      <td>4.230469</td>\n",
       "      <td>2007</td>\n",
       "      <td>1</td>\n",
       "      <td>1</td>\n",
       "      <td>Pomona Press</td>\n",
       "      <td>5:53530</td>\n",
       "      <td>...</td>\n",
       "      <td>3:15170</td>\n",
       "      <td>2:4005</td>\n",
       "      <td>1:1777</td>\n",
       "      <td>total:106489</td>\n",
       "      <td>0</td>\n",
       "      <td>NaN</td>\n",
       "      <td>332.0</td>\n",
       "      <td>NaN</td>\n",
       "      <td>NaN</td>\n",
       "      <td>NaN</td>\n",
       "    </tr>\n",
       "    <tr>\n",
       "      <th>1850309</th>\n",
       "      <td>499999</td>\n",
       "      <td>The New York Times Crosswords For A Lazy Day: ...</td>\n",
       "      <td>Will Shortz</td>\n",
       "      <td>0312939434</td>\n",
       "      <td>4.421875</td>\n",
       "      <td>2006</td>\n",
       "      <td>4</td>\n",
       "      <td>4</td>\n",
       "      <td>St. Martin's Paperbacks</td>\n",
       "      <td>5:9</td>\n",
       "      <td>...</td>\n",
       "      <td>3:1</td>\n",
       "      <td>2:0</td>\n",
       "      <td>1:0</td>\n",
       "      <td>total:19</td>\n",
       "      <td>0</td>\n",
       "      <td>NaN</td>\n",
       "      <td>288.0</td>\n",
       "      <td>NaN</td>\n",
       "      <td>NaN</td>\n",
       "      <td>NaN</td>\n",
       "    </tr>\n",
       "  </tbody>\n",
       "</table>\n",
       "<p>1850310 rows × 21 columns</p>\n",
       "</div>"
      ],
      "text/plain": [
       "             Id                                               Name  \\\n",
       "0        700000  A Passion to Preserve: Gay Men as Keepers of C...   \n",
       "1        700002  Culture Keepers-Florida: Oral History of the A...   \n",
       "2        700003  Holiday Favorites: The Best of the Williams-So...   \n",
       "3        700004  Soups, Salads & Starters: the Best of Williams...   \n",
       "4        700005                              Breakfasts & Brunches   \n",
       "...         ...                                                ...   \n",
       "1850305  499992  The Frugal Gourmet Cooks Three Ancient Cuisine...   \n",
       "1850306  499994                        Meditation and Its Practice   \n",
       "1850307  499997  The New York Times Almanac 2006: The Almanac o...   \n",
       "1850308  499998  The Meditations of the Emperor Marcus Aurelius...   \n",
       "1850309  499999  The New York Times Crosswords For A Lazy Day: ...   \n",
       "\n",
       "                       Authors        ISBN    Rating  PublishYear  \\\n",
       "0                 Will Fellows  0299196844  3.750000         2005   \n",
       "1        Deborah Johnson-Simon  1425935168  0.000000         2006   \n",
       "2              Allen Rosenberg  0848728009  4.550781         2004   \n",
       "3              Allan Rosenberg  0848728068  4.699219         2004   \n",
       "4              Time-Life Books  0783503210  3.880859         1997   \n",
       "...                        ...         ...       ...          ...   \n",
       "1850305            Jeff  Smith  0688075894  3.810547         1989   \n",
       "1850306             Swami Rama  0893891533  4.218750         2007   \n",
       "1850307         John W. Wright  0143036521  4.000000         2005   \n",
       "1850308        Marcus Aurelius  1406788406  4.230469         2007   \n",
       "1850309            Will Shortz  0312939434  4.421875         2006   \n",
       "\n",
       "         PublishMonth  PublishDay                      Publisher RatingDist5  \\\n",
       "0                   1           9  University of Wisconsin Press         5:5   \n",
       "1                  18           7                    Authorhouse         5:0   \n",
       "2                   1           4                   Oxmoor House         5:7   \n",
       "3                   1           4                   Oxmoor House         5:8   \n",
       "4                   1           4              Time Life Medical         5:6   \n",
       "...               ...         ...                            ...         ...   \n",
       "1850305             1           1       William Morrow & Company       5:347   \n",
       "1850306            12           2      Himalayan Institute Press       5:127   \n",
       "1850307            17          10                  Penguin Books         5:0   \n",
       "1850308             1           1                   Pomona Press     5:53530   \n",
       "1850309             4           4        St. Martin's Paperbacks         5:9   \n",
       "\n",
       "         ... RatingDist3 RatingDist2 RatingDist1 RatingDistTotal  \\\n",
       "0        ...         3:8         2:3         1:0        total:36   \n",
       "1        ...         3:0         2:0         1:0         total:0   \n",
       "2        ...         3:1         2:0         1:0        total:11   \n",
       "3        ...         3:1         2:0         1:0        total:10   \n",
       "4        ...         3:4         2:2         1:0        total:17   \n",
       "...      ...         ...         ...         ...             ...   \n",
       "1850305  ...       3:278        2:82        1:36      total:1095   \n",
       "1850306  ...        3:35        2:11         1:5       total:245   \n",
       "1850307  ...         3:0         2:0         1:0         total:1   \n",
       "1850308  ...     3:15170      2:4005      1:1777    total:106489   \n",
       "1850309  ...         3:1         2:0         1:0        total:19   \n",
       "\n",
       "        CountsOfReview  Language pagesNumber  \\\n",
       "0                    6       NaN       298.0   \n",
       "1                    0       NaN       140.0   \n",
       "2                    2       NaN       336.0   \n",
       "3                    2       NaN       336.0   \n",
       "4                    0       eng       108.0   \n",
       "...                ...       ...         ...   \n",
       "1850305             18       NaN       525.0   \n",
       "1850306             18       NaN       110.0   \n",
       "1850307              0       NaN      1008.0   \n",
       "1850308              0       NaN       332.0   \n",
       "1850309              0       NaN       288.0   \n",
       "\n",
       "                                               Description  \\\n",
       "0        From large cities to rural communities, gay me...   \n",
       "1                                                      NaN   \n",
       "2        This collector's edition features fabulous ful...   \n",
       "3                                                      NaN   \n",
       "4        America's most respected cookware retailer, th...   \n",
       "...                                                    ...   \n",
       "1850305                                                NaN   \n",
       "1850306                                                NaN   \n",
       "1850307                                                NaN   \n",
       "1850308                                                NaN   \n",
       "1850309                                                NaN   \n",
       "\n",
       "        Count of text reviews  PagesNumber  \n",
       "0                         6.0          NaN  \n",
       "1                         0.0          NaN  \n",
       "2                         2.0          NaN  \n",
       "3                         2.0          NaN  \n",
       "4                         0.0          NaN  \n",
       "...                       ...          ...  \n",
       "1850305                   NaN          NaN  \n",
       "1850306                   NaN          NaN  \n",
       "1850307                   NaN          NaN  \n",
       "1850308                   NaN          NaN  \n",
       "1850309                   NaN          NaN  \n",
       "\n",
       "[1850310 rows x 21 columns]"
      ]
     },
     "execution_count": 6,
     "metadata": {},
     "output_type": "execute_result"
    }
   ],
   "source": [
    "reduce_mem_usage(df_book)"
   ]
  },
  {
   "cell_type": "code",
   "execution_count": 7,
   "id": "3dd8e7b7",
   "metadata": {},
   "outputs": [
    {
     "name": "stdout",
     "output_type": "stream",
     "text": [
      "Mem. usage decreased to  6.22 Mb (25.0% reduction)\n"
     ]
    },
    {
     "data": {
      "text/html": [
       "<div>\n",
       "<style scoped>\n",
       "    .dataframe tbody tr th:only-of-type {\n",
       "        vertical-align: middle;\n",
       "    }\n",
       "\n",
       "    .dataframe tbody tr th {\n",
       "        vertical-align: top;\n",
       "    }\n",
       "\n",
       "    .dataframe thead th {\n",
       "        text-align: right;\n",
       "    }\n",
       "</style>\n",
       "<table border=\"1\" class=\"dataframe\">\n",
       "  <thead>\n",
       "    <tr style=\"text-align: right;\">\n",
       "      <th></th>\n",
       "      <th>ID</th>\n",
       "      <th>Name</th>\n",
       "      <th>Rating</th>\n",
       "    </tr>\n",
       "  </thead>\n",
       "  <tbody>\n",
       "    <tr>\n",
       "      <th>0</th>\n",
       "      <td>1</td>\n",
       "      <td>Agile Web Development with Rails: A Pragmatic ...</td>\n",
       "      <td>it was amazing</td>\n",
       "    </tr>\n",
       "    <tr>\n",
       "      <th>1</th>\n",
       "      <td>1</td>\n",
       "      <td>The Restaurant at the End of the Universe (Hit...</td>\n",
       "      <td>it was amazing</td>\n",
       "    </tr>\n",
       "    <tr>\n",
       "      <th>2</th>\n",
       "      <td>1</td>\n",
       "      <td>Siddhartha</td>\n",
       "      <td>it was amazing</td>\n",
       "    </tr>\n",
       "    <tr>\n",
       "      <th>3</th>\n",
       "      <td>1</td>\n",
       "      <td>The Clock of the Long Now: Time and Responsibi...</td>\n",
       "      <td>really liked it</td>\n",
       "    </tr>\n",
       "    <tr>\n",
       "      <th>4</th>\n",
       "      <td>1</td>\n",
       "      <td>Ready Player One (Ready Player One, #1)</td>\n",
       "      <td>really liked it</td>\n",
       "    </tr>\n",
       "    <tr>\n",
       "      <th>...</th>\n",
       "      <td>...</td>\n",
       "      <td>...</td>\n",
       "      <td>...</td>\n",
       "    </tr>\n",
       "    <tr>\n",
       "      <th>362591</th>\n",
       "      <td>5403</td>\n",
       "      <td>The MacGregors: Alan &amp; Grant (The MacGregors, ...</td>\n",
       "      <td>it was ok</td>\n",
       "    </tr>\n",
       "    <tr>\n",
       "      <th>362592</th>\n",
       "      <td>5403</td>\n",
       "      <td>The MacGregors: Serena &amp; Caine (The MacGregors...</td>\n",
       "      <td>it was ok</td>\n",
       "    </tr>\n",
       "    <tr>\n",
       "      <th>362593</th>\n",
       "      <td>5403</td>\n",
       "      <td>Time and Again: Time Was / Times Change</td>\n",
       "      <td>it was ok</td>\n",
       "    </tr>\n",
       "    <tr>\n",
       "      <th>362594</th>\n",
       "      <td>5403</td>\n",
       "      <td>Dance Upon The Air (Three Sisters Island, #1)</td>\n",
       "      <td>really liked it</td>\n",
       "    </tr>\n",
       "    <tr>\n",
       "      <th>362595</th>\n",
       "      <td>5403</td>\n",
       "      <td>Valley Of Silence (Circle Trilogy, #3)</td>\n",
       "      <td>liked it</td>\n",
       "    </tr>\n",
       "  </tbody>\n",
       "</table>\n",
       "<p>362596 rows × 3 columns</p>\n",
       "</div>"
      ],
      "text/plain": [
       "          ID                                               Name  \\\n",
       "0          1  Agile Web Development with Rails: A Pragmatic ...   \n",
       "1          1  The Restaurant at the End of the Universe (Hit...   \n",
       "2          1                                         Siddhartha   \n",
       "3          1  The Clock of the Long Now: Time and Responsibi...   \n",
       "4          1            Ready Player One (Ready Player One, #1)   \n",
       "...      ...                                                ...   \n",
       "362591  5403  The MacGregors: Alan & Grant (The MacGregors, ...   \n",
       "362592  5403  The MacGregors: Serena & Caine (The MacGregors...   \n",
       "362593  5403            Time and Again: Time Was / Times Change   \n",
       "362594  5403      Dance Upon The Air (Three Sisters Island, #1)   \n",
       "362595  5403             Valley Of Silence (Circle Trilogy, #3)   \n",
       "\n",
       "                 Rating  \n",
       "0        it was amazing  \n",
       "1        it was amazing  \n",
       "2        it was amazing  \n",
       "3       really liked it  \n",
       "4       really liked it  \n",
       "...                 ...  \n",
       "362591        it was ok  \n",
       "362592        it was ok  \n",
       "362593        it was ok  \n",
       "362594  really liked it  \n",
       "362595         liked it  \n",
       "\n",
       "[362596 rows x 3 columns]"
      ]
     },
     "execution_count": 7,
     "metadata": {},
     "output_type": "execute_result"
    }
   ],
   "source": [
    "reduce_mem_usage(df_rating)"
   ]
  },
  {
   "cell_type": "code",
   "execution_count": 8,
   "id": "cbc6f3d7",
   "metadata": {},
   "outputs": [
    {
     "data": {
      "text/html": [
       "<div>\n",
       "<style scoped>\n",
       "    .dataframe tbody tr th:only-of-type {\n",
       "        vertical-align: middle;\n",
       "    }\n",
       "\n",
       "    .dataframe tbody tr th {\n",
       "        vertical-align: top;\n",
       "    }\n",
       "\n",
       "    .dataframe thead th {\n",
       "        text-align: right;\n",
       "    }\n",
       "</style>\n",
       "<table border=\"1\" class=\"dataframe\">\n",
       "  <thead>\n",
       "    <tr style=\"text-align: right;\">\n",
       "      <th></th>\n",
       "      <th>Id</th>\n",
       "      <th>Name</th>\n",
       "      <th>Authors</th>\n",
       "      <th>ISBN</th>\n",
       "      <th>PublishYear</th>\n",
       "    </tr>\n",
       "  </thead>\n",
       "  <tbody>\n",
       "    <tr>\n",
       "      <th>0</th>\n",
       "      <td>700000</td>\n",
       "      <td>A Passion to Preserve: Gay Men as Keepers of C...</td>\n",
       "      <td>Will Fellows</td>\n",
       "      <td>0299196844</td>\n",
       "      <td>2005</td>\n",
       "    </tr>\n",
       "    <tr>\n",
       "      <th>1</th>\n",
       "      <td>700002</td>\n",
       "      <td>Culture Keepers-Florida: Oral History of the A...</td>\n",
       "      <td>Deborah Johnson-Simon</td>\n",
       "      <td>1425935168</td>\n",
       "      <td>2006</td>\n",
       "    </tr>\n",
       "    <tr>\n",
       "      <th>2</th>\n",
       "      <td>700003</td>\n",
       "      <td>Holiday Favorites: The Best of the Williams-So...</td>\n",
       "      <td>Allen Rosenberg</td>\n",
       "      <td>0848728009</td>\n",
       "      <td>2004</td>\n",
       "    </tr>\n",
       "    <tr>\n",
       "      <th>3</th>\n",
       "      <td>700004</td>\n",
       "      <td>Soups, Salads &amp; Starters: the Best of Williams...</td>\n",
       "      <td>Allan Rosenberg</td>\n",
       "      <td>0848728068</td>\n",
       "      <td>2004</td>\n",
       "    </tr>\n",
       "    <tr>\n",
       "      <th>4</th>\n",
       "      <td>700005</td>\n",
       "      <td>Breakfasts &amp; Brunches</td>\n",
       "      <td>Time-Life Books</td>\n",
       "      <td>0783503210</td>\n",
       "      <td>1997</td>\n",
       "    </tr>\n",
       "    <tr>\n",
       "      <th>5</th>\n",
       "      <td>700006</td>\n",
       "      <td>Vegetarian (Best of Williams-Sonoma Kitchen Li...</td>\n",
       "      <td>Allan Rosenberg</td>\n",
       "      <td>0848730577</td>\n",
       "      <td>2005</td>\n",
       "    </tr>\n",
       "    <tr>\n",
       "      <th>6</th>\n",
       "      <td>700007</td>\n",
       "      <td>Pork and Lamb</td>\n",
       "      <td>Joanne Weir</td>\n",
       "      <td>0783503091</td>\n",
       "      <td>1999</td>\n",
       "    </tr>\n",
       "    <tr>\n",
       "      <th>7</th>\n",
       "      <td>700008</td>\n",
       "      <td>Ice Creams and Sorbets</td>\n",
       "      <td>Sarah Tenaglia</td>\n",
       "      <td>0783503105</td>\n",
       "      <td>1999</td>\n",
       "    </tr>\n",
       "    <tr>\n",
       "      <th>8</th>\n",
       "      <td>700011</td>\n",
       "      <td>Paradise/Tender Triumph (Omnibus)</td>\n",
       "      <td>Judith McNaught</td>\n",
       "      <td>0743428331</td>\n",
       "      <td>2001</td>\n",
       "    </tr>\n",
       "    <tr>\n",
       "      <th>9</th>\n",
       "      <td>700015</td>\n",
       "      <td>50 Thrifty Maui Restaurants: Dining on a Budge...</td>\n",
       "      <td>Yvonne Biegel</td>\n",
       "      <td>097426721X</td>\n",
       "      <td>2004</td>\n",
       "    </tr>\n",
       "  </tbody>\n",
       "</table>\n",
       "</div>"
      ],
      "text/plain": [
       "       Id                                               Name  \\\n",
       "0  700000  A Passion to Preserve: Gay Men as Keepers of C...   \n",
       "1  700002  Culture Keepers-Florida: Oral History of the A...   \n",
       "2  700003  Holiday Favorites: The Best of the Williams-So...   \n",
       "3  700004  Soups, Salads & Starters: the Best of Williams...   \n",
       "4  700005                              Breakfasts & Brunches   \n",
       "5  700006  Vegetarian (Best of Williams-Sonoma Kitchen Li...   \n",
       "6  700007                                      Pork and Lamb   \n",
       "7  700008                             Ice Creams and Sorbets   \n",
       "8  700011                  Paradise/Tender Triumph (Omnibus)   \n",
       "9  700015  50 Thrifty Maui Restaurants: Dining on a Budge...   \n",
       "\n",
       "                 Authors        ISBN  PublishYear  \n",
       "0           Will Fellows  0299196844         2005  \n",
       "1  Deborah Johnson-Simon  1425935168         2006  \n",
       "2        Allen Rosenberg  0848728009         2004  \n",
       "3        Allan Rosenberg  0848728068         2004  \n",
       "4        Time-Life Books  0783503210         1997  \n",
       "5        Allan Rosenberg  0848730577         2005  \n",
       "6            Joanne Weir  0783503091         1999  \n",
       "7         Sarah Tenaglia  0783503105         1999  \n",
       "8        Judith McNaught  0743428331         2001  \n",
       "9          Yvonne Biegel  097426721X         2004  "
      ]
     },
     "execution_count": 8,
     "metadata": {},
     "output_type": "execute_result"
    }
   ],
   "source": [
    "## Required columns are choosen and new dataframe have been created with these columns\n",
    "column_list_for_df_books = ['Id','Name','Authors','ISBN','PublishYear']\n",
    "\n",
    "df_book_new = df_book[column_list_for_df_books]\n",
    "df_book_new.head(10)"
   ]
  },
  {
   "cell_type": "code",
   "execution_count": 9,
   "id": "82723e05",
   "metadata": {},
   "outputs": [
    {
     "data": {
      "text/plain": [
       "76773      2\n",
       "85990      2\n",
       "86020      2\n",
       "86019      2\n",
       "86018      2\n",
       "          ..\n",
       "3424051    1\n",
       "3424050    1\n",
       "3424049    1\n",
       "3424047    1\n",
       "499999     1\n",
       "Name: Id, Length: 1850115, dtype: int64"
      ]
     },
     "execution_count": 9,
     "metadata": {},
     "output_type": "execute_result"
    }
   ],
   "source": [
    "# To check is there any duplicated users in the dataframe\n",
    "df_book_new.Id.value_counts()"
   ]
  },
  {
   "cell_type": "code",
   "execution_count": 10,
   "id": "5ee9cf68",
   "metadata": {},
   "outputs": [
    {
     "data": {
      "text/plain": [
       "1850115"
      ]
     },
     "execution_count": 10,
     "metadata": {},
     "output_type": "execute_result"
    }
   ],
   "source": [
    "df_book_new.Id.nunique()"
   ]
  },
  {
   "cell_type": "code",
   "execution_count": 11,
   "id": "1b76bd8d",
   "metadata": {},
   "outputs": [
    {
     "data": {
      "text/plain": [
       "(1850310, 5)"
      ]
     },
     "execution_count": 11,
     "metadata": {},
     "output_type": "execute_result"
    }
   ],
   "source": [
    "df_book_new.shape"
   ]
  },
  {
   "cell_type": "markdown",
   "id": "5b43ab3d",
   "metadata": {},
   "source": [
    "Number of unique users and the shape of the user dataframe is not equal. So I dropped duplicated rows from the dataframe. "
   ]
  },
  {
   "cell_type": "code",
   "execution_count": 12,
   "id": "f5a11988",
   "metadata": {},
   "outputs": [
    {
     "name": "stderr",
     "output_type": "stream",
     "text": [
      "/Users/firatsoydinc/opt/anaconda3/lib/python3.9/site-packages/pandas/util/_decorators.py:311: SettingWithCopyWarning: \n",
      "A value is trying to be set on a copy of a slice from a DataFrame\n",
      "\n",
      "See the caveats in the documentation: https://pandas.pydata.org/pandas-docs/stable/user_guide/indexing.html#returning-a-view-versus-a-copy\n",
      "  return func(*args, **kwargs)\n"
     ]
    },
    {
     "data": {
      "text/plain": [
       "(1850115, 5)"
      ]
     },
     "execution_count": 12,
     "metadata": {},
     "output_type": "execute_result"
    }
   ],
   "source": [
    "df_book_new.drop_duplicates(inplace=True)\n",
    "df_book_new.shape"
   ]
  },
  {
   "cell_type": "code",
   "execution_count": 13,
   "id": "9cf95f79",
   "metadata": {},
   "outputs": [
    {
     "name": "stdout",
     "output_type": "stream",
     "text": [
      "##################### Number of Observations #####################\n",
      "1850115\n",
      "##################### Number of Variables #####################\n",
      "5\n",
      "##################### Number of Categoric Variables#####################\n",
      "3\n",
      "##################### Number of Numeric Variables#####################\n",
      "2\n",
      "##################### Types of Variables#####################\n",
      "Id              int32\n",
      "Name           object\n",
      "Authors        object\n",
      "ISBN           object\n",
      "PublishYear     int32\n",
      "dtype: object\n",
      "##################### NA #####################\n",
      "Id                0\n",
      "Name              0\n",
      "Authors           0\n",
      "ISBN           5922\n",
      "PublishYear       0\n",
      "dtype: int64\n"
     ]
    }
   ],
   "source": [
    "### To taka a quick overview of the new dataframe\n",
    "overview_df(df_book_new)"
   ]
  },
  {
   "cell_type": "markdown",
   "id": "f8c2cbc1",
   "metadata": {},
   "source": [
    "The dataframe has 5 variables (3 numeric, and 2 categoric), and ISBN column has 5922 missing observations. So these missing observations are dropped from dataframe."
   ]
  },
  {
   "cell_type": "code",
   "execution_count": 14,
   "id": "49adbaad",
   "metadata": {},
   "outputs": [],
   "source": [
    "df_book_new.dropna(inplace= True)"
   ]
  },
  {
   "cell_type": "code",
   "execution_count": 15,
   "id": "9543c888",
   "metadata": {},
   "outputs": [],
   "source": [
    "df_book_new.reset_index(inplace = True)"
   ]
  },
  {
   "cell_type": "code",
   "execution_count": 16,
   "id": "8c87e125",
   "metadata": {},
   "outputs": [
    {
     "data": {
      "text/plain": [
       "(1844193, 6)"
      ]
     },
     "execution_count": 16,
     "metadata": {},
     "output_type": "execute_result"
    }
   ],
   "source": [
    "df_book_new.shape"
   ]
  },
  {
   "cell_type": "markdown",
   "id": "c1c862de",
   "metadata": {},
   "source": [
    "ISBN number has 10 digits, and if the book is republished it has 13 digits. Books that do not comply with this rule have been deleted from the dataframe."
   ]
  },
  {
   "cell_type": "code",
   "execution_count": 17,
   "id": "0fe8c416",
   "metadata": {},
   "outputs": [],
   "source": [
    "missing_isbn_indexes = []\n",
    "\n",
    "for index,each in enumerate(df_book_new.ISBN):\n",
    "    if 'X' in each:\n",
    "        missing_isbn_indexes.append(index)"
   ]
  },
  {
   "cell_type": "code",
   "execution_count": 18,
   "id": "132a83fb",
   "metadata": {},
   "outputs": [
    {
     "name": "stderr",
     "output_type": "stream",
     "text": [
      "/Users/firatsoydinc/opt/anaconda3/lib/python3.9/site-packages/pandas/core/frame.py:4906: SettingWithCopyWarning: \n",
      "A value is trying to be set on a copy of a slice from a DataFrame\n",
      "\n",
      "See the caveats in the documentation: https://pandas.pydata.org/pandas-docs/stable/user_guide/indexing.html#returning-a-view-versus-a-copy\n",
      "  return super().drop(\n"
     ]
    }
   ],
   "source": [
    "df_book_new.drop(missing_isbn_indexes,inplace = True)"
   ]
  },
  {
   "cell_type": "code",
   "execution_count": 19,
   "id": "954ea6a7",
   "metadata": {},
   "outputs": [
    {
     "data": {
      "text/plain": [
       "(1685179, 6)"
      ]
     },
     "execution_count": 19,
     "metadata": {},
     "output_type": "execute_result"
    }
   ],
   "source": [
    "df_book_new.shape"
   ]
  },
  {
   "cell_type": "code",
   "execution_count": 20,
   "id": "f378ab74",
   "metadata": {},
   "outputs": [],
   "source": [
    "df_book_new.reset_index(inplace=True)"
   ]
  },
  {
   "cell_type": "code",
   "execution_count": 21,
   "id": "e152fe7d",
   "metadata": {},
   "outputs": [
    {
     "data": {
      "text/plain": [
       "[39516,\n",
       " 159902,\n",
       " 165087,\n",
       " 175716,\n",
       " 187754,\n",
       " 237874,\n",
       " 243118,\n",
       " 268590,\n",
       " 376710,\n",
       " 379735,\n",
       " 465182,\n",
       " 507577,\n",
       " 524410,\n",
       " 549333,\n",
       " 608878,\n",
       " 622293,\n",
       " 635581,\n",
       " 640031,\n",
       " 642738,\n",
       " 644605,\n",
       " 709808,\n",
       " 726176,\n",
       " 748963,\n",
       " 757148,\n",
       " 758601,\n",
       " 777356,\n",
       " 810792,\n",
       " 828858,\n",
       " 840268,\n",
       " 852297,\n",
       " 879906,\n",
       " 930984,\n",
       " 936441,\n",
       " 973299,\n",
       " 1094316,\n",
       " 1106518,\n",
       " 1115840,\n",
       " 1122692,\n",
       " 1123803,\n",
       " 1164864,\n",
       " 1175915,\n",
       " 1181660,\n",
       " 1218474,\n",
       " 1253916,\n",
       " 1277262,\n",
       " 1325076,\n",
       " 1336267,\n",
       " 1359633,\n",
       " 1431404,\n",
       " 1433079,\n",
       " 1460752,\n",
       " 1515001,\n",
       " 1680770]"
      ]
     },
     "execution_count": 21,
     "metadata": {},
     "output_type": "execute_result"
    }
   ],
   "source": [
    "incorrenct_ISBN = []\n",
    "for index,each in enumerate(df_book_new.ISBN):\n",
    "    if (len(each) != 10) & (len(each) != 13):\n",
    "        incorrenct_ISBN.append(index)\n",
    "incorrenct_ISBN"
   ]
  },
  {
   "cell_type": "code",
   "execution_count": 22,
   "id": "df7116e3",
   "metadata": {},
   "outputs": [],
   "source": [
    "df_book_new.drop(incorrenct_ISBN, inplace = True)"
   ]
  },
  {
   "cell_type": "code",
   "execution_count": 23,
   "id": "c6c6a6df",
   "metadata": {},
   "outputs": [
    {
     "data": {
      "text/plain": [
       "(1685126, 7)"
      ]
     },
     "execution_count": 23,
     "metadata": {},
     "output_type": "execute_result"
    }
   ],
   "source": [
    "df_book_new.shape"
   ]
  },
  {
   "cell_type": "markdown",
   "id": "a5556510",
   "metadata": {},
   "source": [
    "### Cleaning in rating dataframe "
   ]
  },
  {
   "cell_type": "code",
   "execution_count": 24,
   "id": "963356b3",
   "metadata": {},
   "outputs": [
    {
     "data": {
      "text/plain": [
       "Index(['ID', 'Name', 'Rating'], dtype='object')"
      ]
     },
     "execution_count": 24,
     "metadata": {},
     "output_type": "execute_result"
    }
   ],
   "source": [
    "df_rating.columns"
   ]
  },
  {
   "cell_type": "markdown",
   "id": "f310ce89",
   "metadata": {},
   "source": [
    "Rating values are defined as strings in the data set. In order to make calculations with ratings, the rating value must be integer."
   ]
  },
  {
   "cell_type": "code",
   "execution_count": 25,
   "id": "2ea7fddb",
   "metadata": {},
   "outputs": [
    {
     "data": {
      "text/plain": [
       "array(['it was amazing', 'really liked it', 'liked it', 'did not like it',\n",
       "       'it was ok', \"This user doesn't have any rating\"], dtype=object)"
      ]
     },
     "execution_count": 25,
     "metadata": {},
     "output_type": "execute_result"
    }
   ],
   "source": [
    "df_rating.Rating.unique()"
   ]
  },
  {
   "cell_type": "code",
   "execution_count": 26,
   "id": "b1b99897",
   "metadata": {},
   "outputs": [],
   "source": [
    "conditions = [(df_rating['Rating'] == 'it was amazing'), (df_rating['Rating'] == 'really liked it'), (df_rating['Rating'] == 'did not like it'),\n",
    "              (df_rating['Rating'] == 'it was ok') , (df_rating['Rating'] == 'liked it')]\n",
    "values = [5, 4, 1, 3, 2, ]\n",
    "df_rating['Rating'] = np.select(conditions, values)"
   ]
  },
  {
   "cell_type": "code",
   "execution_count": 27,
   "id": "bded0806",
   "metadata": {
    "scrolled": true
   },
   "outputs": [
    {
     "data": {
      "text/plain": [
       "4    132808\n",
       "2     96047\n",
       "5     92354\n",
       "3     28811\n",
       "1      7811\n",
       "0      4765\n",
       "Name: Rating, dtype: int64"
      ]
     },
     "execution_count": 27,
     "metadata": {},
     "output_type": "execute_result"
    }
   ],
   "source": [
    "df_rating.Rating.value_counts()"
   ]
  },
  {
   "cell_type": "markdown",
   "id": "56598742",
   "metadata": {},
   "source": [
    "#### To check is there duplicated observation in the dataframe"
   ]
  },
  {
   "cell_type": "code",
   "execution_count": 28,
   "id": "af3799ae",
   "metadata": {},
   "outputs": [
    {
     "data": {
      "text/plain": [
       "(362596, 3)"
      ]
     },
     "execution_count": 28,
     "metadata": {},
     "output_type": "execute_result"
    }
   ],
   "source": [
    "df_rating.shape"
   ]
  },
  {
   "cell_type": "code",
   "execution_count": 29,
   "id": "3d4de0da",
   "metadata": {},
   "outputs": [
    {
     "data": {
      "text/plain": [
       "(362161, 3)"
      ]
     },
     "execution_count": 29,
     "metadata": {},
     "output_type": "execute_result"
    }
   ],
   "source": [
    "df_rating.drop_duplicates(inplace=True)\n",
    "df_rating.shape"
   ]
  },
  {
   "cell_type": "code",
   "execution_count": 30,
   "id": "5c22df7a",
   "metadata": {
    "scrolled": true
   },
   "outputs": [
    {
     "data": {
      "text/html": [
       "<div>\n",
       "<style scoped>\n",
       "    .dataframe tbody tr th:only-of-type {\n",
       "        vertical-align: middle;\n",
       "    }\n",
       "\n",
       "    .dataframe tbody tr th {\n",
       "        vertical-align: top;\n",
       "    }\n",
       "\n",
       "    .dataframe thead th {\n",
       "        text-align: right;\n",
       "    }\n",
       "</style>\n",
       "<table border=\"1\" class=\"dataframe\">\n",
       "  <thead>\n",
       "    <tr style=\"text-align: right;\">\n",
       "      <th></th>\n",
       "      <th>ID</th>\n",
       "      <th>Name</th>\n",
       "      <th>Rating</th>\n",
       "      <th>level_0</th>\n",
       "      <th>index</th>\n",
       "      <th>Id</th>\n",
       "      <th>Authors</th>\n",
       "      <th>ISBN</th>\n",
       "      <th>PublishYear</th>\n",
       "    </tr>\n",
       "  </thead>\n",
       "  <tbody>\n",
       "    <tr>\n",
       "      <th>0</th>\n",
       "      <td>1</td>\n",
       "      <td>Agile Web Development with Rails: A Pragmatic ...</td>\n",
       "      <td>5</td>\n",
       "      <td>NaN</td>\n",
       "      <td>NaN</td>\n",
       "      <td>NaN</td>\n",
       "      <td>NaN</td>\n",
       "      <td>NaN</td>\n",
       "      <td>NaN</td>\n",
       "    </tr>\n",
       "    <tr>\n",
       "      <th>1</th>\n",
       "      <td>1</td>\n",
       "      <td>The Restaurant at the End of the Universe (Hit...</td>\n",
       "      <td>5</td>\n",
       "      <td>153082.0</td>\n",
       "      <td>153581.0</td>\n",
       "      <td>862825.0</td>\n",
       "      <td>Douglas Adams</td>\n",
       "      <td>0517545357</td>\n",
       "      <td>1981.0</td>\n",
       "    </tr>\n",
       "    <tr>\n",
       "      <th>2</th>\n",
       "      <td>1</td>\n",
       "      <td>Siddhartha</td>\n",
       "      <td>5</td>\n",
       "      <td>22791.0</td>\n",
       "      <td>22849.0</td>\n",
       "      <td>742021.0</td>\n",
       "      <td>Hermann Hesse</td>\n",
       "      <td>1434605000</td>\n",
       "      <td>2008.0</td>\n",
       "    </tr>\n",
       "    <tr>\n",
       "      <th>3</th>\n",
       "      <td>1</td>\n",
       "      <td>Siddhartha</td>\n",
       "      <td>5</td>\n",
       "      <td>69451.0</td>\n",
       "      <td>69675.0</td>\n",
       "      <td>1646972.0</td>\n",
       "      <td>Hermann Hesse</td>\n",
       "      <td>0811202925</td>\n",
       "      <td>1951.0</td>\n",
       "    </tr>\n",
       "    <tr>\n",
       "      <th>4</th>\n",
       "      <td>1</td>\n",
       "      <td>Siddhartha</td>\n",
       "      <td>5</td>\n",
       "      <td>237076.0</td>\n",
       "      <td>237840.0</td>\n",
       "      <td>1482027.0</td>\n",
       "      <td>Hermann Hesse</td>\n",
       "      <td>3518458531</td>\n",
       "      <td>2007.0</td>\n",
       "    </tr>\n",
       "  </tbody>\n",
       "</table>\n",
       "</div>"
      ],
      "text/plain": [
       "   ID                                               Name  Rating   level_0  \\\n",
       "0   1  Agile Web Development with Rails: A Pragmatic ...       5       NaN   \n",
       "1   1  The Restaurant at the End of the Universe (Hit...       5  153082.0   \n",
       "2   1                                         Siddhartha       5   22791.0   \n",
       "3   1                                         Siddhartha       5   69451.0   \n",
       "4   1                                         Siddhartha       5  237076.0   \n",
       "\n",
       "      index         Id        Authors        ISBN  PublishYear  \n",
       "0       NaN        NaN            NaN         NaN          NaN  \n",
       "1  153581.0   862825.0  Douglas Adams  0517545357       1981.0  \n",
       "2   22849.0   742021.0  Hermann Hesse  1434605000       2008.0  \n",
       "3   69675.0  1646972.0  Hermann Hesse  0811202925       1951.0  \n",
       "4  237840.0  1482027.0  Hermann Hesse  3518458531       2007.0  "
      ]
     },
     "execution_count": 30,
     "metadata": {},
     "output_type": "execute_result"
    }
   ],
   "source": [
    "## Merge Cleaned books dataframe and rating dataframes based on name of the book\n",
    "df = df_rating.merge(df_book_new, how= 'left', on = 'Name' )\n",
    "df.head()"
   ]
  },
  {
   "cell_type": "code",
   "execution_count": 31,
   "id": "89cac728",
   "metadata": {
    "scrolled": false
   },
   "outputs": [
    {
     "name": "stdout",
     "output_type": "stream",
     "text": [
      "##################### Number of Observations #####################\n",
      "1064102\n",
      "##################### Number of Variables #####################\n",
      "9\n",
      "##################### Number of Categoric Variables#####################\n",
      "3\n",
      "##################### Number of Numeric Variables#####################\n",
      "6\n",
      "##################### Types of Variables#####################\n",
      "ID               int16\n",
      "Name            object\n",
      "Rating           int64\n",
      "level_0        float64\n",
      "index          float64\n",
      "Id             float64\n",
      "Authors         object\n",
      "ISBN            object\n",
      "PublishYear    float64\n",
      "dtype: object\n",
      "##################### NA #####################\n",
      "ID                  0\n",
      "Name                0\n",
      "Rating              0\n",
      "level_0        139016\n",
      "index          139016\n",
      "Id             139016\n",
      "Authors        139016\n",
      "ISBN           139016\n",
      "PublishYear    139016\n",
      "dtype: int64\n"
     ]
    }
   ],
   "source": [
    "overview_df(df)"
   ]
  },
  {
   "cell_type": "markdown",
   "id": "6b6eeaee",
   "metadata": {},
   "source": [
    "Merged dataframe consist of 9 variables (3 categoric and 6 numeric) and 139016 observations have ratings for books which are not in the books dataframe. So these observations are dropped from dataframe."
   ]
  },
  {
   "cell_type": "code",
   "execution_count": 32,
   "id": "2c941169",
   "metadata": {},
   "outputs": [],
   "source": [
    "df.dropna(inplace=True)"
   ]
  },
  {
   "cell_type": "code",
   "execution_count": 33,
   "id": "b906c1af",
   "metadata": {},
   "outputs": [
    {
     "data": {
      "text/plain": [
       "(925086, 9)"
      ]
     },
     "execution_count": 33,
     "metadata": {},
     "output_type": "execute_result"
    }
   ],
   "source": [
    "df.shape"
   ]
  },
  {
   "cell_type": "code",
   "execution_count": 34,
   "id": "31193b3a",
   "metadata": {},
   "outputs": [],
   "source": [
    "user_book_df = df.pivot_table(index=[\"ID\"], columns=[\"Name\"], values=\"Rating\")\n",
    "\n"
   ]
  },
  {
   "cell_type": "code",
   "execution_count": 35,
   "id": "355a3414",
   "metadata": {},
   "outputs": [],
   "source": [
    "def keyword_recommender():\n",
    "    keyword = input('Please enter keyword to find book: ')\n",
    "    liste = [col for col in user_book_df.columns if keyword in col]\n",
    "    for i in range(len(liste)):\n",
    "        print('press', i,'for',liste[i] )\n",
    "    a = input()\n",
    "    choosen = liste[int(a)]\n",
    "    book_name = user_book_df[choosen]\n",
    "    print(user_book_df.corrwith(book_name).sort_values(ascending=False).head(10))"
   ]
  },
  {
   "cell_type": "code",
   "execution_count": 36,
   "id": "ce208869",
   "metadata": {},
   "outputs": [
    {
     "name": "stdout",
     "output_type": "stream",
     "text": [
      "Please enter keyword to find book: Potter\n",
      "press 0 for Beatrix Potter's Journal\n",
      "press 1 for Beatrix Potter: A Life in Nature\n",
      "press 2 for Centering In Pottery, Poetry, And The Person\n",
      "press 3 for From Potter's Field (Kay Scarpetta, #6)\n",
      "press 4 for Harrius Potter et Philosophi Lapis\n",
      "press 5 for Harry Potter Boxed Set, Books 1-5 (Harry Potter, #1-5)\n",
      "press 6 for Harry Potter Collection (Harry Potter, #1-6)\n",
      "press 7 for Harry Potter Series Box Set (Harry Potter, #1-7)\n",
      "press 8 for Harry Potter and the Chamber of Secrets (Harry Potter, #2)\n",
      "press 9 for Harry Potter and the Deathly Hallows (Harry Potter, #7)\n",
      "press 10 for Harry Potter and the Goblet of Fire (Harry Potter, #4)\n",
      "press 11 for Harry Potter and the Half-Blood Prince (Harry Potter, #6)\n",
      "press 12 for Harry Potter and the Half-blood Prince (Harry Potter, #6)\n",
      "press 13 for Harry Potter and the Order of the Phoenix\n",
      "press 14 for Harry Potter and the Order of the Phoenix (Harry Potter, #5)\n",
      "press 15 for Harry Potter and the Philosopher's Stone\n",
      "press 16 for Harry Potter and the Philosopher's Stone (Harry Potter, #1)\n",
      "press 17 for Harry Potter and the Prisoner of Azkaban (Harry Potter, #3)\n",
      "press 18 for Harry Potter and the Sorcerer's Stone (Harry Potter, #1)\n",
      "press 19 for Harry Potter aur Azkaban ka Qaidi (Harry Potter, #3)\n",
      "press 20 for Harry Potter e a Pedra Filosofal (Harry Potter, #1)\n",
      "press 21 for Harry Potter et le Prince de Sang-Mêlé (Harry Potter, #6)\n",
      "press 22 for Harry Potter und der Feuerkelch (Harry Potter, #4)\n",
      "press 23 for Harry Potter und der Gefangene von Askaban (Harry Potter, #3)\n",
      "press 24 for Harry Potter und der Orden des Phönix (Harry Potter, #5)\n",
      "press 25 for Harry Potter und der Stein der Weisen (Harry Potter, #1)\n",
      "press 26 for Harry Potter und die Kammer des Schreckens (Harry Potter, #2)\n",
      "press 27 for Harry Potter y el misterio del príncipe (Harry Potter, #6)\n",
      "press 28 for Harry Potter y el prisionero de Azkaban (Harry Potter, #3)\n",
      "press 29 for Harry Potter y la Cámara Secreta (Harry Potter, #2)\n",
      "press 30 for Harry Potter y la Orden del Fénix (Harry Potter, #5)\n",
      "press 31 for Harry Potter y la cámara secreta\n",
      "press 32 for Harry Potter y la piedra filosofal (Harry Potter, #1)\n",
      "press 33 for Harry, a History: The True Story of a Boy Wizard, His Fans, and Life Inside the Harry Potter Phenomenon\n",
      "press 34 for Israel Potter: His Fifty Years of Exile, Volume Eight\n",
      "press 35 for J. K. Rowling: The Wizard Behind Harry Potter\n",
      "press 36 for J. K. Rowling: The Wizard Behind Harry Potter: The Wizard Behind Harry Potter\n",
      "press 37 for Mugglenet.Com's What Will Happen in Harry Potter 7: Who Lives, Who Dies, Who Falls in Love and How Will the Adventure Finally End?\n",
      "press 38 for Potter's Field\n",
      "press 39 for Pottery on the Wheel\n",
      "press 40 for Selections from Harry Potter and the Order of the Phoenix: Piano Solos\n",
      "press 41 for The 27-Ingredient Chili Con Carne Murders (Eugenia Potter, #4)\n",
      "press 42 for The Complete Tales of Beatrix Potter\n",
      "press 43 for The Harry Potter Collection 1-4 (Harry Potter, #1-4)\n",
      "press 44 for The Ivory Tower and Harry Potter: Perspectives on a Literary Phenomenon\n",
      "press 45 for The Science of Harry Potter: How Magic Really Works\n",
      "press 46 for The Sorcerer's Companion: A Guide to the Magical World of Harry Potter\n",
      "press 47 for The Tale of Hawthorn House (The Cottage Tales of Beatrix Potter, #4)\n",
      "press 48 for Ultimate Unofficial Guide to the Mysteries of Harry Potter: Analysis of Book 5\n",
      "press 49 for Who is Bugs Potter?\n",
      "26\n"
     ]
    },
    {
     "name": "stderr",
     "output_type": "stream",
     "text": [
      "/Users/firatsoydinc/opt/anaconda3/lib/python3.9/site-packages/numpy/lib/function_base.py:2634: RuntimeWarning: Degrees of freedom <= 0 for slice\n",
      "  c = cov(x, y, rowvar, dtype=dtype)\n",
      "/Users/firatsoydinc/opt/anaconda3/lib/python3.9/site-packages/numpy/lib/function_base.py:2493: RuntimeWarning: divide by zero encountered in true_divide\n",
      "  c *= np.true_divide(1, fact)\n"
     ]
    },
    {
     "name": "stdout",
     "output_type": "stream",
     "text": [
      "Name\n",
      "Harry Potter and the Goblet of Fire (Harry Potter, #4)           1.000000\n",
      "Harry Potter and the Half-Blood Prince (Harry Potter, #6)        1.000000\n",
      "Harry Potter and the Order of the Phoenix (Harry Potter, #5)     1.000000\n",
      "Harry Potter and the Deathly Hallows (Harry Potter, #7)          1.000000\n",
      "Harry Potter und der Feuerkelch (Harry Potter, #4)               1.000000\n",
      "Harry Potter und der Gefangene von Askaban (Harry Potter, #3)    1.000000\n",
      "Harry Potter und die Kammer des Schreckens (Harry Potter, #2)    1.000000\n",
      "Harry Potter und der Stein der Weisen (Harry Potter, #1)         0.846154\n",
      "\"A Problem from Hell\": America and the Age of Genocide                NaN\n",
      "\"A\" Is for Africa                                                     NaN\n",
      "dtype: float64\n"
     ]
    }
   ],
   "source": [
    "keyword_recommender()"
   ]
  },
  {
   "cell_type": "markdown",
   "id": "dc8a8673",
   "metadata": {},
   "source": [
    "When there is no user who reads similar books among the users, the similarity rate returns \"NaN\". This situation is called cold start problem in advisory systems. Therefore, no user testing has been done and a new model will be developed with Content based filtering method instead of Collaborative filtering method."
   ]
  },
  {
   "cell_type": "code",
   "execution_count": 37,
   "id": "0667ff0c",
   "metadata": {
    "scrolled": false
   },
   "outputs": [
    {
     "name": "stdout",
     "output_type": "stream",
     "text": [
      "Please enter keyword to find book: Potter\n",
      "press 0 for Beatrix Potter's Journal\n",
      "press 1 for Beatrix Potter: A Life in Nature\n",
      "press 2 for Centering In Pottery, Poetry, And The Person\n",
      "press 3 for From Potter's Field (Kay Scarpetta, #6)\n",
      "press 4 for Harrius Potter et Philosophi Lapis\n",
      "press 5 for Harry Potter Boxed Set, Books 1-5 (Harry Potter, #1-5)\n",
      "press 6 for Harry Potter Collection (Harry Potter, #1-6)\n",
      "press 7 for Harry Potter Series Box Set (Harry Potter, #1-7)\n",
      "press 8 for Harry Potter and the Chamber of Secrets (Harry Potter, #2)\n",
      "press 9 for Harry Potter and the Deathly Hallows (Harry Potter, #7)\n",
      "press 10 for Harry Potter and the Goblet of Fire (Harry Potter, #4)\n",
      "press 11 for Harry Potter and the Half-Blood Prince (Harry Potter, #6)\n",
      "press 12 for Harry Potter and the Half-blood Prince (Harry Potter, #6)\n",
      "press 13 for Harry Potter and the Order of the Phoenix\n",
      "press 14 for Harry Potter and the Order of the Phoenix (Harry Potter, #5)\n",
      "press 15 for Harry Potter and the Philosopher's Stone\n",
      "press 16 for Harry Potter and the Philosopher's Stone (Harry Potter, #1)\n",
      "press 17 for Harry Potter and the Prisoner of Azkaban (Harry Potter, #3)\n",
      "press 18 for Harry Potter and the Sorcerer's Stone (Harry Potter, #1)\n",
      "press 19 for Harry Potter aur Azkaban ka Qaidi (Harry Potter, #3)\n",
      "press 20 for Harry Potter e a Pedra Filosofal (Harry Potter, #1)\n",
      "press 21 for Harry Potter et le Prince de Sang-Mêlé (Harry Potter, #6)\n",
      "press 22 for Harry Potter und der Feuerkelch (Harry Potter, #4)\n",
      "press 23 for Harry Potter und der Gefangene von Askaban (Harry Potter, #3)\n",
      "press 24 for Harry Potter und der Orden des Phönix (Harry Potter, #5)\n",
      "press 25 for Harry Potter und der Stein der Weisen (Harry Potter, #1)\n",
      "press 26 for Harry Potter und die Kammer des Schreckens (Harry Potter, #2)\n",
      "press 27 for Harry Potter y el misterio del príncipe (Harry Potter, #6)\n",
      "press 28 for Harry Potter y el prisionero de Azkaban (Harry Potter, #3)\n",
      "press 29 for Harry Potter y la Cámara Secreta (Harry Potter, #2)\n",
      "press 30 for Harry Potter y la Orden del Fénix (Harry Potter, #5)\n",
      "press 31 for Harry Potter y la cámara secreta\n",
      "press 32 for Harry Potter y la piedra filosofal (Harry Potter, #1)\n",
      "press 33 for Harry, a History: The True Story of a Boy Wizard, His Fans, and Life Inside the Harry Potter Phenomenon\n",
      "press 34 for Israel Potter: His Fifty Years of Exile, Volume Eight\n",
      "press 35 for J. K. Rowling: The Wizard Behind Harry Potter\n",
      "press 36 for J. K. Rowling: The Wizard Behind Harry Potter: The Wizard Behind Harry Potter\n",
      "press 37 for Mugglenet.Com's What Will Happen in Harry Potter 7: Who Lives, Who Dies, Who Falls in Love and How Will the Adventure Finally End?\n",
      "press 38 for Potter's Field\n",
      "press 39 for Pottery on the Wheel\n",
      "press 40 for Selections from Harry Potter and the Order of the Phoenix: Piano Solos\n",
      "press 41 for The 27-Ingredient Chili Con Carne Murders (Eugenia Potter, #4)\n",
      "press 42 for The Complete Tales of Beatrix Potter\n",
      "press 43 for The Harry Potter Collection 1-4 (Harry Potter, #1-4)\n",
      "press 44 for The Ivory Tower and Harry Potter: Perspectives on a Literary Phenomenon\n",
      "press 45 for The Science of Harry Potter: How Magic Really Works\n",
      "press 46 for The Sorcerer's Companion: A Guide to the Magical World of Harry Potter\n",
      "press 47 for The Tale of Hawthorn House (The Cottage Tales of Beatrix Potter, #4)\n",
      "press 48 for Ultimate Unofficial Guide to the Mysteries of Harry Potter: Analysis of Book 5\n",
      "press 49 for Who is Bugs Potter?\n",
      "19\n",
      "Name\n",
      "\"A Problem from Hell\": America and the Age of Genocide                                                               NaN\n",
      "\"A\" Is for Africa                                                                                                    NaN\n",
      "\"B\" Is for Betsy                                                                                                     NaN\n",
      "\"Do you consider yourself a postmodern author?\": Interviews with Contemporary English Writers                        NaN\n",
      "\"I Am a Man\": Chief Standing Bear's Journey for Justice                                                              NaN\n",
      "\"Master Harold\"...and the boys                                                                                       NaN\n",
      "\"My Teenage Son's Goal In Life Is To Make Me Feel 3,500 Years Old\" and Other Thoughts On Parenting From Dave Barry   NaN\n",
      "\"So What Are You Going to Do with That?\": Finding Careers Outside Academia                                           NaN\n",
      "\"Surely You're Joking, Mr. Feynman!\": Adventures of a Curious Character                                              NaN\n",
      "\"Sweat\"                                                                                                              NaN\n",
      "dtype: float64\n"
     ]
    }
   ],
   "source": [
    "keyword_recommender()\n"
   ]
  },
  {
   "cell_type": "code",
   "execution_count": null,
   "id": "36dba9df",
   "metadata": {},
   "outputs": [],
   "source": []
  }
 ],
 "metadata": {
  "kernelspec": {
   "display_name": "Python 3 (ipykernel)",
   "language": "python",
   "name": "python3"
  },
  "language_info": {
   "codemirror_mode": {
    "name": "ipython",
    "version": 3
   },
   "file_extension": ".py",
   "mimetype": "text/x-python",
   "name": "python",
   "nbconvert_exporter": "python",
   "pygments_lexer": "ipython3",
   "version": "3.9.7"
  }
 },
 "nbformat": 4,
 "nbformat_minor": 5
}
